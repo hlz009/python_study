{
 "cells": [
  {
   "cell_type": "code",
   "execution_count": 1,
   "metadata": {},
   "outputs": [],
   "source": [
    "class Dog():\n",
    "    \n",
    "    '''\n",
    "    创建实例时，python会自动加载这个方法,\n",
    "    python调用这个__init__方法创建实例时，将自动传入实参self，因此该方法要包括形参self\n",
    "    每个与类相关联的方法调用都自动传递实参self，它是一个指向实例本身的引用，\n",
    "    让实例能够访问类中的属性和方法（可以参考比较java中的this）\n",
    "    \n",
    "    注意  init 前后各有两个下划线_ 也就是__\n",
    "    '''\n",
    "    def __init__(self, name, age):\n",
    "        self.name = name\n",
    "        self.age = age\n",
    "    \n",
    "    def sit(self):\n",
    "        print(self.name.title() + \" is now sitting \")\n",
    "    \n",
    "    def roll_over(self):\n",
    "        print(self.name.title() + \" rolled over! \")"
   ]
  },
  {
   "cell_type": "code",
   "execution_count": 23,
   "metadata": {},
   "outputs": [
    {
     "name": "stdout",
     "output_type": "stream",
     "text": [
      "2016 Audi A4\n"
     ]
    }
   ],
   "source": [
    "class Car():\n",
    "    \n",
    "    def __init__(self, make, model, year):\n",
    "        self.make = make\n",
    "        self.model = model\n",
    "        self.year = year\n",
    "        self.odometer_reading = 0 #指定默认值属性\n",
    "    \n",
    "    def get_descriptive_name(self):\n",
    "        long_name = str(self.year) + ' ' + self.make + \" \" + self.model\n",
    "        return long_name.title()\n",
    "    \n",
    "    #读取属性\n",
    "    def read_odometer():\n",
    "        print(\"This car has \" + str(self.odometer_reading) + \" miles on it.\")\n",
    "\n",
    "    #修改属性\n",
    "    def update_odometer(self, mileage):\n",
    "        '''\n",
    "        里程只允许上调，不允许下调\n",
    "        '''\n",
    "        if mileage >= self.odometer_reading:\n",
    "            self.odometer_reading = mileage\n",
    "        else:\n",
    "            print(\"you cannot roll back an odometer\")\n",
    "    \n",
    "    def increment_odometer(self, miles):\n",
    "        if miles < 0:\n",
    "            print(\"you cannot set an negative miles\")\n",
    "            return\n",
    "        self.odometer_reading += miles\n",
    "    \n",
    "    def fill_gas_tank(self):\n",
    "        print(\"This car is filled with oil in it's tank\")\n",
    "    \n",
    "    \n",
    "my_new_car = Car('Audi', 'a4', 2016)\n",
    "print(my_new_car.get_descriptive_name())"
   ]
  },
  {
   "cell_type": "code",
   "execution_count": 40,
   "metadata": {},
   "outputs": [],
   "source": [
    "'''\n",
    "    Car的子类\n",
    "'''\n",
    "class ElectricCar(Car):\n",
    "    def __init__(self, make, model, year):\n",
    "        super().__init__(make, model, year)\n",
    "        self.battery_size = 70\n",
    "    \n",
    "#     def fill_gas_tank(self):\n",
    "#         print(\"This car doesnot need a gas tank!\")\n",
    "\n",
    "electric_car = ElectricCar('tesla', 'model s', 2016)\n",
    "# print(electric_car.fill_gas_tank())"
   ]
  },
  {
   "cell_type": "code",
   "execution_count": 38,
   "metadata": {},
   "outputs": [],
   "source": [
    "'''\n",
    "电池类\n",
    "'''\n",
    "class Battery():\n",
    "    def __init__(self, battery_size=70):\n",
    "        self.battery_size = battery_size\n",
    "    \n",
    "    def describe_battery(self):\n",
    "        print(\"This car has a \" + str(self.battery_size) + \"-kwh battery.\")\n",
    "    \n",
    "    def get_range(self, car_model=\"this car\"):\n",
    "        if self.battery_size == 70:\n",
    "            range = 240\n",
    "        elif self.battery_size == 85:\n",
    "            range = 270\n",
    "        print(car_model + \" can go approximately \" + str(range) + \n",
    "             \" miles on a full charge.\")\n",
    "    \n",
    "    def update_battery(self):\n",
    "        if self.battery_size != 85:\n",
    "            self.battery_size = 85"
   ]
  },
  {
   "cell_type": "code",
   "execution_count": 42,
   "metadata": {},
   "outputs": [
    {
     "name": "stdout",
     "output_type": "stream",
     "text": [
      "model s can go approximately 240 miles on a full charge.\n",
      "model s can go approximately 270 miles on a full charge.\n"
     ]
    }
   ],
   "source": [
    "'''\n",
    "    Car的子类,改进\n",
    "    将实例用作属性\n",
    "'''\n",
    "\n",
    "class ElectricCar(Car):\n",
    "    def __init__(self, make, model, year):\n",
    "        super().__init__(make, model, year)\n",
    "        self.battery = Battery()\n",
    "    \n",
    "    def fill_gas_tank(self):\n",
    "        print(\"This car doesnot need a gas tank!\")\n",
    "\n",
    "electric_car = ElectricCar('tesla', 'model s', 2016)\n",
    "electric_car.battery.get_range(electric_car.model)\n",
    "electric_car.battery.update_battery()\n",
    "electric_car.battery.get_range(electric_car.model)"
   ]
  },
  {
   "cell_type": "code",
   "execution_count": 1,
   "metadata": {},
   "outputs": [],
   "source": [
    "'''\n",
    "jupyter 运行过的程序代码，类似于在同一个文件定义的代码\n",
    "这里为了演示导入类，我们单独将写入的car代码移除命名为car.py\n",
    "\n",
    "也可以将相关的类放入同一个文件中，作为一个模块进行导入\n",
    "'''\n",
    "from car import Car\n",
    "\n",
    "my_new_car = Car(\"audi\", \"a4\", 2016)"
   ]
  },
  {
   "cell_type": "code",
   "execution_count": 2,
   "metadata": {},
   "outputs": [
    {
     "data": {
      "text/plain": [
       "'2016 Tesla Roadster'"
      ]
     },
     "execution_count": 2,
     "metadata": {},
     "output_type": "execute_result"
    }
   ],
   "source": [
    "'''\n",
    "导入相互有依赖的模块\n",
    "被依赖的模块（相当于父模块 ）要放在前面导入\n",
    "'''\n",
    "\n",
    "from car import Car\n",
    "from electric_car import ElectricCar\n",
    "\n",
    "my_beetle = Car(\"volkswagen\", \"beetle\", 2016)\n",
    "my_beetle.get_descriptive_name()\n",
    "\n",
    "my_tesla = ElectricCar(\"tesla\", \"roadster\", 2016)\n",
    "my_tesla.get_descriptive_name()"
   ]
  },
  {
   "cell_type": "code",
   "execution_count": null,
   "metadata": {},
   "outputs": [],
   "source": []
  }
 ],
 "metadata": {
  "kernelspec": {
   "display_name": "Python 3",
   "language": "python",
   "name": "python3"
  },
  "language_info": {
   "codemirror_mode": {
    "name": "ipython",
    "version": 3
   },
   "file_extension": ".py",
   "mimetype": "text/x-python",
   "name": "python",
   "nbconvert_exporter": "python",
   "pygments_lexer": "ipython3",
   "version": "3.7.1"
  }
 },
 "nbformat": 4,
 "nbformat_minor": 2
}
