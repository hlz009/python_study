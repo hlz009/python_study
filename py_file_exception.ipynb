{
 "cells": [
  {
   "cell_type": "code",
   "execution_count": 2,
   "metadata": {},
   "outputs": [
    {
     "name": "stdout",
     "output_type": "stream",
     "text": [
      "3.1415926535\n",
      "  8979323846\n",
      "  2643383279\n"
     ]
    }
   ],
   "source": [
    "'''\n",
    "打开文件\n",
    "'''\n",
    "\n",
    "'''\n",
    "with 使用时，程序会在合适的时间自动关闭文件\n",
    "with open(\"pi_digits.txt\") as file_object\n",
    "open参数中添加r 告诉系统这是一个路径以防止转义字符\n",
    "\n",
    "传递的参数可以传递相对路径，也可以传递绝对路径\n",
    "'''\n",
    "with open(\"pi_digits.txt\") as file_object:\n",
    "    contents = file_object.read()\n",
    "    print(contents)\n",
    "    \n"
   ]
  },
  {
   "cell_type": "code",
   "execution_count": 4,
   "metadata": {},
   "outputs": [
    {
     "name": "stdout",
     "output_type": "stream",
     "text": [
      "3.1415926535\n",
      "\n",
      "  8979323846\n",
      "\n",
      "  2643383279\n"
     ]
    }
   ],
   "source": [
    "'''\n",
    "逐行读取,\n",
    "读取的内容，会自动在末尾加上一个换行符，\n",
    "要消除多余的空白符，加上rstrip()即可\n",
    "'''\n",
    "with open(\"pi_digits.txt\") as file_object:\n",
    "    for line in file_object:\n",
    "        print(line)"
   ]
  },
  {
   "cell_type": "code",
   "execution_count": 5,
   "metadata": {},
   "outputs": [
    {
     "name": "stdout",
     "output_type": "stream",
     "text": [
      "3.1415926535\n",
      "  8979323846\n",
      "  2643383279\n"
     ]
    }
   ],
   "source": [
    "'''\n",
    "要在with代码块后面使用该列表，可以在with代码内将\n",
    "文件的各行存储在一个列表中，并在with代码块使用该列表\n",
    "readlines() 从文件读取每一行，并将其存储在一个列表中\n",
    "'''\n",
    "with open(\"pi_digits.txt\") as file_object:\n",
    "    lines = file_object.readlines()\n",
    "\n",
    "for line in lines:\n",
    "    print(line.rstrip())\n",
    "    \n",
    "'''\n",
    "读取文本文件时，每一个文本文件的\n",
    "内容都会将其读取为字符串，根据需要自己转换\n",
    "'''"
   ]
  },
  {
   "cell_type": "code",
   "execution_count": 6,
   "metadata": {},
   "outputs": [],
   "source": [
    "'''\n",
    "写入文件\n",
    "python只能写入字符类型\n",
    "'''\n",
    "\n",
    "filename = \"programming.txt\"\n",
    "\n",
    "with open(filename, \"w\") as file_object:\n",
    "    #写入多行时，我们必须显示增加换行符。\n",
    "    file_object.write(\"I love programmig.\\n\")\n",
    "    file_object.write(\"I love creating new games.\\n\")    \n",
    "    \n"
   ]
  },
  {
   "cell_type": "code",
   "execution_count": 7,
   "metadata": {},
   "outputs": [
    {
     "name": "stdout",
     "output_type": "stream",
     "text": [
      "you cannot divide by 0\n"
     ]
    }
   ],
   "source": [
    "'''\n",
    "异常\n",
    "'''\n",
    "try:\n",
    "    print(5/0)\n",
    "except:\n",
    "    print(\"you cannot divide by 0\")\n",
    "else:\n",
    "    #存放程序成功才执行的代码块"
   ]
  },
  {
   "cell_type": "code",
   "execution_count": 8,
   "metadata": {},
   "outputs": [],
   "source": [
    "def count_words():\n",
    "    ''' 统计一个文件有多少个单词 '''\n",
    "    try:\n",
    "        with open(filename) as f_obj:\n",
    "            contents = f_obj.read()\n",
    "    except FileNotFoundError:\n",
    "        # 如果发生错误，什么也不做，可以使用pass\n",
    "#         pass\n",
    "        msg = \"Sorry, the file \" + filename + \"does not exist\"\n",
    "        print(msg)\n",
    "    else:\n",
    "        words = contents.split() #根据空格分离\n",
    "        num_words = len(words)\n",
    "        print(\"The file \" + filename + \" has about \" + str(num_words) + \" words.\")"
   ]
  },
  {
   "cell_type": "code",
   "execution_count": 9,
   "metadata": {},
   "outputs": [
    {
     "name": "stdout",
     "output_type": "stream",
     "text": [
      "[2, 3, 5, 7, 11, 13]\n"
     ]
    }
   ],
   "source": [
    "'''\n",
    "使用JSON存储\n",
    "json.dump()接收两个参数：要存储的数据，可用于存储数据的文件对象\n",
    "'''\n",
    "import json\n",
    "\n",
    "numbers = [2, 3, 5, 7, 11, 13]\n",
    "\n",
    "filename = \"numbers.json\" #文件指定为json格式\n",
    "with open(filename, \"w\") as f_obj:\n",
    "    json.dump(numbers, f_obj)\n",
    "\n",
    "''' 读取json文件 '''\n",
    "with open(filename) as f_obj:\n",
    "    numbers = json.load(f_obj)  \n",
    "print(numbers)"
   ]
  },
  {
   "cell_type": "code",
   "execution_count": 11,
   "metadata": {},
   "outputs": [
    {
     "name": "stdout",
     "output_type": "stream",
     "text": [
      "Welcome back, hu!\n"
     ]
    }
   ],
   "source": [
    "import json\n",
    "\n",
    "'''\n",
    " 重构原则，每个函数只做一个功能，见名知义\n",
    "'''\n",
    "def get_stored_username():\n",
    "    filename = \"username.json\"\n",
    "    try:\n",
    "        with open(filename) as f_obj:\n",
    "            username = json.load(f_obj)\n",
    "    except FileNotFoundError:\n",
    "        return None\n",
    "    else:\n",
    "        return username\n",
    "\n",
    "def greet_user():\n",
    "    username = get_stored_username()\n",
    "    if username:\n",
    "        print(\"Welcome back, \" + username + \"!\")\n",
    "    else:\n",
    "        username = input(\"What is your name?\")\n",
    "        filename = \"username.json\"\n",
    "        with open(filename, \"w\") as f_obj:\n",
    "            json.dump(username, f_obj)\n",
    "        print(\"We'll rember you when you come back, \" + username + \"!\")\n",
    "\n",
    "greet_user()"
   ]
  },
  {
   "cell_type": "code",
   "execution_count": null,
   "metadata": {},
   "outputs": [],
   "source": []
  }
 ],
 "metadata": {
  "kernelspec": {
   "display_name": "Python 3",
   "language": "python",
   "name": "python3"
  },
  "language_info": {
   "codemirror_mode": {
    "name": "ipython",
    "version": 3
   },
   "file_extension": ".py",
   "mimetype": "text/x-python",
   "name": "python",
   "nbconvert_exporter": "python",
   "pygments_lexer": "ipython3",
   "version": "3.7.1"
  }
 },
 "nbformat": 4,
 "nbformat_minor": 2
}
